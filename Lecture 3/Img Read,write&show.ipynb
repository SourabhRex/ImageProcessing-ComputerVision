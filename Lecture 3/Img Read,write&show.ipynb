{
 "cells": [
  {
   "cell_type": "code",
   "execution_count": 12,
   "id": "6f92a801-d924-49c1-8a89-71757a721fcd",
   "metadata": {},
   "outputs": [],
   "source": [
    "import cv2"
   ]
  },
  {
   "cell_type": "code",
   "execution_count": 13,
   "id": "b3152f4b-2f28-45a4-8584-f75cee966a53",
   "metadata": {},
   "outputs": [
    {
     "name": "stdout",
     "output_type": "stream",
     "text": [
      "(1038, 1920, 3)\n",
      "[[[237 209 179]\n",
      "  [238 210 180]\n",
      "  [238 210 180]\n",
      "  ...\n",
      "  [231 196 163]\n",
      "  [233 198 165]\n",
      "  [236 201 168]]\n",
      "\n",
      " [[237 209 179]\n",
      "  [238 210 180]\n",
      "  [238 210 180]\n",
      "  ...\n",
      "  [233 198 165]\n",
      "  [235 200 167]\n",
      "  [236 201 168]]\n",
      "\n",
      " [[237 209 179]\n",
      "  [238 210 180]\n",
      "  [238 210 180]\n",
      "  ...\n",
      "  [236 201 168]\n",
      "  [236 201 168]\n",
      "  [236 201 168]]\n",
      "\n",
      " ...\n",
      "\n",
      " [[243 231 221]\n",
      "  [243 231 221]\n",
      "  [243 231 221]\n",
      "  ...\n",
      "  [237 211 181]\n",
      "  [237 211 181]\n",
      "  [236 211 181]]\n",
      "\n",
      " [[243 231 221]\n",
      "  [243 231 221]\n",
      "  [243 231 221]\n",
      "  ...\n",
      "  [238 212 182]\n",
      "  [238 212 182]\n",
      "  [238 212 182]]\n",
      "\n",
      " [[243 231 221]\n",
      "  [243 231 221]\n",
      "  [243 231 221]\n",
      "  ...\n",
      "  [238 212 182]\n",
      "  [239 213 183]\n",
      "  [237 211 181]]]\n"
     ]
    },
    {
     "data": {
      "text/plain": [
       "-1"
      ]
     },
     "execution_count": 13,
     "metadata": {},
     "output_type": "execute_result"
    }
   ],
   "source": [
    "img1 = cv2.imread(\"avengers.jpg\",1)\n",
    "print(img1.shape)\n",
    "img1= cv2.resize(img1,(1280,700))\n",
    "print(img1)\n",
    "cv2.imshow(\"original\",img1)\n",
    "cv2.waitKey(5000)\n",
    "# cv2.destroyAllWindows()"
   ]
  },
  {
   "cell_type": "code",
   "execution_count": 14,
   "id": "df3546bc-7d6a-4405-972b-301ec0dabd46",
   "metadata": {},
   "outputs": [
    {
     "name": "stdout",
     "output_type": "stream",
     "text": [
      "[[[236 201 168]\n",
      "  [233 198 165]\n",
      "  [231 196 163]\n",
      "  ...\n",
      "  [238 210 180]\n",
      "  [238 210 180]\n",
      "  [237 209 179]]\n",
      "\n",
      " [[236 201 168]\n",
      "  [235 200 167]\n",
      "  [233 198 165]\n",
      "  ...\n",
      "  [238 210 180]\n",
      "  [238 210 180]\n",
      "  [237 209 179]]\n",
      "\n",
      " [[236 201 168]\n",
      "  [236 201 168]\n",
      "  [236 201 168]\n",
      "  ...\n",
      "  [238 210 180]\n",
      "  [238 210 180]\n",
      "  [237 209 179]]\n",
      "\n",
      " ...\n",
      "\n",
      " [[236 211 181]\n",
      "  [237 211 181]\n",
      "  [237 211 181]\n",
      "  ...\n",
      "  [243 231 221]\n",
      "  [243 231 221]\n",
      "  [243 231 221]]\n",
      "\n",
      " [[238 212 182]\n",
      "  [238 212 182]\n",
      "  [238 212 182]\n",
      "  ...\n",
      "  [243 231 221]\n",
      "  [243 231 221]\n",
      "  [243 231 221]]\n",
      "\n",
      " [[237 211 181]\n",
      "  [239 213 183]\n",
      "  [238 212 182]\n",
      "  ...\n",
      "  [243 231 221]\n",
      "  [243 231 221]\n",
      "  [243 231 221]]]\n"
     ]
    }
   ],
   "source": [
    "# for flip\n",
    "import cv2\n",
    "\n",
    "img2 = cv2.imread(\"avengers.jpg\")\n",
    "img2= cv2.resize(img2,(1280,700))\n",
    "img2= cv2.flip(img2,1)\n",
    "print(img2)\n",
    "cv2.imshow(\"GrayScale\",img2)\n",
    "cv2.waitKey()\n",
    "cv2.destroyAllWindows()"
   ]
  },
  {
   "cell_type": "code",
   "execution_count": 15,
   "id": "0dda43e6-f057-4215-b7c9-bd295964bc63",
   "metadata": {},
   "outputs": [
    {
     "name": "stdout",
     "output_type": "stream",
     "text": [
      "[[203 204 204 ... 190 192 195]\n",
      " [203 204 204 ... 192 194 195]\n",
      " [203 204 204 ... 195 195 195]\n",
      " ...\n",
      " [229 229 229 ... 205 205 205]\n",
      " [229 229 229 ... 206 206 206]\n",
      " [229 229 229 ... 206 207 205]]\n"
     ]
    }
   ],
   "source": [
    "# for gray scale\n",
    "img2 = cv2.imread(\"avengers.jpg\",0)\n",
    "img2= cv2.resize(img2,(1280,700))\n",
    "print(img2)\n",
    "cv2.imshow(\"GrayScale\",img2)\n",
    "cv2.waitKey()\n",
    "cv2.destroyAllWindows()"
   ]
  },
  {
   "cell_type": "code",
   "execution_count": 16,
   "id": "7de59d21-f978-440a-91d6-572cbc7fb79c",
   "metadata": {},
   "outputs": [
    {
     "name": "stdout",
     "output_type": "stream",
     "text": [
      "[[203 204 204 ... 190 192 195]\n",
      " [203 204 204 ... 192 194 195]\n",
      " [203 204 204 ... 195 195 195]\n",
      " ...\n",
      " [229 229 229 ... 205 205 205]\n",
      " [229 229 229 ... 206 206 206]\n",
      " [229 229 229 ... 206 207 205]]\n"
     ]
    }
   ],
   "source": [
    "#to save the gray scale\n",
    "import cv2\n",
    "\n",
    "img2 = cv2.imread(\"avengers.jpg\",0)\n",
    "img2= cv2.resize(img2,(1280,700))\n",
    "print(img2)\n",
    "cv2.imshow(\"GrayScale\",img2)\n",
    "k=cv2.waitKey(0)\n",
    "if k==ord(\"s\"):\n",
    "    cv2.imwrite(\"output.jpg\",img2)\n",
    "else:\n",
    "    cv2.destroyAllWindows()\n",
    "cv2.destroyAllWindows()"
   ]
  },
  {
   "cell_type": "code",
   "execution_count": null,
   "id": "ccab4ea2-434a-44b5-a3a3-6c02051bfd0b",
   "metadata": {},
   "outputs": [],
   "source": []
  }
 ],
 "metadata": {
  "kernelspec": {
   "display_name": "Python 3 (ipykernel)",
   "language": "python",
   "name": "python3"
  },
  "language_info": {
   "codemirror_mode": {
    "name": "ipython",
    "version": 3
   },
   "file_extension": ".py",
   "mimetype": "text/x-python",
   "name": "python",
   "nbconvert_exporter": "python",
   "pygments_lexer": "ipython3",
   "version": "3.11.5"
  }
 },
 "nbformat": 4,
 "nbformat_minor": 5
}
